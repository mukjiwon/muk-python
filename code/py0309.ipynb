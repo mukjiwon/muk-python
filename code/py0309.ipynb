{
 "cells": [
  {
   "cell_type": "markdown",
   "id": "novel-intelligence",
   "metadata": {},
   "source": [
    "2일차 수업 :  파이썬의 기본문법"
   ]
  },
  {
   "cell_type": "markdown",
   "id": "engaging-granny",
   "metadata": {},
   "source": [
    "### jupyter notebook 사용법\n",
    "* 셀 :  \n",
    "* Code 와 Markdown 모드의 변경 :\n",
    "  * ESC(명령모드상태에서) m을 누르면 Markdown\n",
    "  * ESC(명령모드상태에서) y 를 누르면 Code상태로 변경된다.  \n",
    "* 셀의실행 :\n",
    "  * Ctrl + Enter - 실행만  \n",
    "  * Shift + Enter - 실행 후 아래셀로 이동(없으면 새로 만들고 이동)  \n",
    "  + Alt + Enter - 실행 후 아래셀로 이동  \n",
    "* 셀의 추가 : \n",
    "  * a - 기존 셀의 위에  \n",
    "  * b - 기존 셀의 아래에  \n"
   ]
  },
  {
   "cell_type": "markdown",
   "id": "amateur-groove",
   "metadata": {},
   "source": [
    "# 제목1\n",
    "\n",
    "## 제목2\n",
    "\n",
    "### 제목3\n",
    "\n",
    "#### 제목4\n",
    "\n",
    "##### 제목5"
   ]
  },
  {
   "cell_type": "markdown",
   "id": "solved-night",
   "metadata": {},
   "source": [
    "## 1.print()함수의 활용\n",
    "파이썬에서 출력을 위해서는 print()함수를 사용한다  \n",
    "```python\n",
    "print(\"문자열\")\n",
    "print(수식)\n",
    "print(숫자값)\n",
    "```\n",
    "\n",
    "아래 셀에서 실습을 해보자."
   ]
  },
  {
   "cell_type": "code",
   "execution_count": null,
   "id": "biblical-trading",
   "metadata": {},
   "outputs": [],
   "source": [
    "print(\"Hello\")\n",
    "print('Python')"
   ]
  },
  {
   "cell_type": "markdown",
   "id": "narrative-hormone",
   "metadata": {},
   "source": [
    "## 2. 파이썬의 주석\n",
    "파이썬의 주석은 행단위의 주석과 블럭단위의 주석이 있다.  \n",
    "- 행단위의 주석\n",
    "```python\n",
    "# 이 코드는 행 단위의 주석을 설명합니다.\n",
    "print(\"Hello Python\") # 요기도 주석입니다  \n",
    "# print(\"Hello Python\")  \n",
    "```\n",
    "행의 맨 앞에 # 기호가 붙으면 그 행 전체는 주석으로 처리하여 실행하지 않는다.  \n",
    "코드의 중간에서 #  기호를 넣으면 그 뒤는 주석으로 처리한다.\n",
    "\n",
    "- 블럭단위 주석\n",
    "```python\n",
    "# 주석 1\n",
    "# 주석 2\n",
    "# 주석 3\n",
    "print(\"Hello\")\n"
   ]
  },
  {
   "cell_type": "code",
   "execution_count": 1,
   "id": "arranged-comfort",
   "metadata": {},
   "outputs": [
    {
     "name": "stdout",
     "output_type": "stream",
     "text": [
      "Hello Python\n"
     ]
    }
   ],
   "source": [
    "# 이 코드는 행 단위의 주석을 설명합니다.\n",
    "print(\"Hello Python\") # 요기도 주석입니다  \n",
    "# print(\"Hello Python\") "
   ]
  },
  {
   "cell_type": "code",
   "execution_count": null,
   "id": "economic-miracle",
   "metadata": {},
   "outputs": [],
   "source": []
  }
 ],
 "metadata": {
  "kernelspec": {
   "display_name": "Python 3",
   "language": "python",
   "name": "python3"
  },
  "language_info": {
   "codemirror_mode": {
    "name": "ipython",
    "version": 3
   },
   "file_extension": ".py",
   "mimetype": "text/x-python",
   "name": "python",
   "nbconvert_exporter": "python",
   "pygments_lexer": "ipython3",
   "version": "3.9.2"
  }
 },
 "nbformat": 4,
 "nbformat_minor": 5
}
