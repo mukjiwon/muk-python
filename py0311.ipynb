{
 "cells": [
  {
   "cell_type": "code",
   "execution_count": 8,
   "id": "executive-solution",
   "metadata": {},
   "outputs": [
    {
     "name": "stdout",
     "output_type": "stream",
     "text": [
      "5는 10보다 크다\n",
      "**\n",
      "프로그램이 종료되었습니다\n"
     ]
    }
   ],
   "source": [
    "# 파이썬에서 들여쓰기는 문법사항\n",
    "# 필요한 곳에서 하지 않으면 오류발생(Indentation)\n",
    "if 5 < 10 :\n",
    "    print(\"5는 10보다 크다\")\n",
    "    print(\"**\")\n",
    "print(\"프로그램이 종료되었습니다\")\n",
    "    "
   ]
  },
  {
   "cell_type": "code",
   "execution_count": null,
   "id": "overhead-folks",
   "metadata": {},
   "outputs": [],
   "source": [
    "# 변수 : 프로그램이 사용할 데이터를 기억하는 저장공간의 이름\n",
    "birthyear = 2005 # birthyear라는 변수는 2005 값을 저장하고 있고\n",
    "age = 2021 - birthyear # age라는 변수는 2021 - birthyear의 연산결과를 저장한다\n",
    "print(age) # age에 저장된 값을 출력한다\n",
    "# J,N : cell : \n",
    "# 커서 위치에서 셀을 나누려면 ctrl + shift + - 눌러준다"
   ]
  },
  {
   "cell_type": "code",
   "execution_count": 19,
   "id": "falling-destiny",
   "metadata": {},
   "outputs": [],
   "source": [
    "# 타입type : 숫자(정수형, 실수형), 문자여(열), Boolean\n",
    "numberInt = 100 # 정수형int 타입\n",
    "numberFloat = 1.234 #실수형float 타입\n",
    "varChar = 'A' # 문자형str 타입\n",
    "varStr = 'korea' # 문자열str 타입\n",
    "varBool = 'True' # Boolean(bool) 타입\n"
   ]
  },
  {
   "cell_type": "code",
   "execution_count": 42,
   "id": "welcome-bunch",
   "metadata": {},
   "outputs": [
    {
     "name": "stdout",
     "output_type": "stream",
     "text": [
      "<class 'str'>\n",
      "False\n"
     ]
    }
   ],
   "source": [
    "#파이썬에는 type()함수가 있어서 data type을 확인할 수 있다.\n",
    "print(type(varChar))\n",
    "print(isinstance('varStr', int))"
   ]
  },
  {
   "cell_type": "code",
   "execution_count": 37,
   "id": "younger-trance",
   "metadata": {},
   "outputs": [
    {
     "name": "stdout",
     "output_type": "stream",
     "text": [
      "태어난 해를 입력하세요.:1994\n",
      "27\n"
     ]
    }
   ],
   "source": [
    "# 입력함수 input(\"메시지\")\n",
    "birthyear = int(input(\"태어난 해를 입력하세요.:\") )\n",
    "type(birthyear)\n",
    "age = 2021 - birthyear\n",
    "print(age)\n"
   ]
  },
  {
   "cell_type": "code",
   "execution_count": 39,
   "id": "golden-coordinate",
   "metadata": {},
   "outputs": [
    {
     "name": "stdout",
     "output_type": "stream",
     "text": [
      "1st :  <class 'int'>\n",
      "2nd :  <class 'float'>\n"
     ]
    }
   ],
   "source": [
    "number1 = 100\n",
    "print(\"1st : \", type(number1))\n",
    "number1 = 3.141592\n",
    "print(\"2nd : \", type(number1))"
   ]
  },
  {
   "cell_type": "code",
   "execution_count": 78,
   "id": "unnecessary-rendering",
   "metadata": {},
   "outputs": [
    {
     "name": "stdout",
     "output_type": "stream",
     "text": [
      "age :10세\tage : 88세\n"
     ]
    }
   ],
   "source": [
    "#print(\"age : \", 10\")\n",
    "\n",
    "print('age :',10,'세',sep='', end='\\t')\n",
    "print('age : %d세'%88,)"
   ]
  },
  {
   "cell_type": "code",
   "execution_count": 94,
   "id": "chinese-marketplace",
   "metadata": {},
   "outputs": [
    {
     "name": "stdout",
     "output_type": "stream",
     "text": [
      "0000000010  3.1400 korea\n"
     ]
    }
   ],
   "source": [
    "print('%010d %7.4f %s'%(10, 3.14, 'korea'), sep='')"
   ]
  },
  {
   "cell_type": "code",
   "execution_count": 95,
   "id": "consecutive-compound",
   "metadata": {},
   "outputs": [
    {
     "name": "stdout",
     "output_type": "stream",
     "text": [
      "첫번째 수3.140000 두번째 수 10\n"
     ]
    }
   ],
   "source": [
    "print('첫번째 수{1:f} 두번째 수 {0:d}'.format(10,3.14))"
   ]
  },
  {
   "cell_type": "code",
   "execution_count": 104,
   "id": "swiss-pharmacy",
   "metadata": {},
   "outputs": [
    {
     "name": "stdout",
     "output_type": "stream",
     "text": [
      "True\n"
     ]
    }
   ],
   "source": [
    "num1 = 10\n",
    "num2 = 2\n",
    "print(num1>num2)"
   ]
  },
  {
   "cell_type": "code",
   "execution_count": 109,
   "id": "framed-wrong",
   "metadata": {},
   "outputs": [
    {
     "name": "stdout",
     "output_type": "stream",
     "text": [
      "False\n"
     ]
    }
   ],
   "source": [
    "print(not(10<20)) "
   ]
  },
  {
   "cell_type": "code",
   "execution_count": 111,
   "id": "structured-corner",
   "metadata": {},
   "outputs": [
    {
     "name": "stdout",
     "output_type": "stream",
     "text": [
      "0b101\n"
     ]
    }
   ],
   "source": [
    "print(bin(5))"
   ]
  },
  {
   "cell_type": "code",
   "execution_count": 119,
   "id": "opened-necklace",
   "metadata": {},
   "outputs": [
    {
     "name": "stdout",
     "output_type": "stream",
     "text": [
      "5\n"
     ]
    }
   ],
   "source": [
    "#print(bin(5))\n",
    "print(5&7)"
   ]
  }
 ],
 "metadata": {
  "kernelspec": {
   "display_name": "Python 3",
   "language": "python",
   "name": "python3"
  },
  "language_info": {
   "codemirror_mode": {
    "name": "ipython",
    "version": 3
   },
   "file_extension": ".py",
   "mimetype": "text/x-python",
   "name": "python",
   "nbconvert_exporter": "python",
   "pygments_lexer": "ipython3",
   "version": "3.9.2"
  }
 },
 "nbformat": 4,
 "nbformat_minor": 5
}
